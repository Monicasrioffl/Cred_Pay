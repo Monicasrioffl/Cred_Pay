{
 "cells": [
  {
   "cell_type": "markdown",
   "id": "d9a756e3-5e5f-4352-924f-3ed36b3fa646",
   "metadata": {},
   "source": [
    "                                                  ORGANIZING DATA IN APPROPRIATE FORMAT"
   ]
  },
  {
   "cell_type": "code",
   "execution_count": 2,
   "id": "580c8bd2-07dc-42a9-b0e5-8b80e5f89647",
   "metadata": {},
   "outputs": [
    {
     "name": "stdout",
     "output_type": "stream",
     "text": [
      "The customer ID of the first customer is: cid--001\n"
     ]
    }
   ],
   "source": [
    "#storing cutomer details as variables\n",
    "cid='cid--001'\n",
    "print(\"The customer ID of the first customer is:\",cid)"
   ]
  },
  {
   "cell_type": "code",
   "execution_count": 2,
   "id": "e98250fa-2ade-4338-a93f-39a368d10373",
   "metadata": {},
   "outputs": [
    {
     "name": "stdout",
     "output_type": "stream",
     "text": [
      "<class 'str'>\n",
      "1741038595760\n"
     ]
    }
   ],
   "source": [
    "#creating multiple variables to store unique customerid\n",
    "cid1='cid--001'\n",
    "cid2='cid--002'\n",
    "cid3='cid--003'\n",
    "cid4='cid--004'\n",
    "cid5='cid--005'\n",
    "print(type(cid1))\n",
    "print(id(cid1))"
   ]
  },
  {
   "cell_type": "markdown",
   "id": "859f2564-fb2f-46c9-9252-6cf715e137f0",
   "metadata": {},
   "source": [
    "                                                     ORGANIZING AND QUERYING THE DATA"
   ]
  },
  {
   "cell_type": "code",
   "execution_count": 3,
   "id": "c378d27d-3cd8-495a-98f5-62ab6ca83e28",
   "metadata": {},
   "outputs": [
    {
     "name": "stdout",
     "output_type": "stream",
     "text": [
      "Customer ID: ['cid--001', 'cid--002', 'cid--003', 'cid--004', 'cid--005']\n"
     ]
    }
   ],
   "source": [
    "#Generating the customer ID list and printing it out\n",
    "cid=['cid--001','cid--002','cid--003','cid--004','cid--005']\n",
    "print(\"Customer ID:\",cid)"
   ]
  },
  {
   "cell_type": "code",
   "execution_count": 3,
   "id": "d17cdb3f-0236-4130-9bc8-d2550d822c94",
   "metadata": {},
   "outputs": [
    {
     "name": "stdin",
     "output_type": "stream",
     "text": [
      "Give me the customer ID: cid--001\n",
      "Give me the customer ID: cid--002\n",
      "Give me the customer ID: cid--003\n",
      "Give me the customer ID: cid--004\n",
      "Give me the customer ID: cid--005\n"
     ]
    },
    {
     "name": "stdout",
     "output_type": "stream",
     "text": [
      "The customer ID's are: ['cid--001', 'cid--002', 'cid--003', 'cid--004', 'cid--005']\n"
     ]
    }
   ],
   "source": [
    "#Alternative method to be used when we have larger dataset\n",
    "cid=[]\n",
    "for i in range(5):\n",
    "    a=input(\"Give me the customer ID:\")\n",
    "    cid.append(a)\n",
    "print(\"The customer ID's are:\",cid)"
   ]
  },
  {
   "cell_type": "code",
   "execution_count": 6,
   "id": "d22da8c0-5d26-4885-b011-0a1e5ba958f6",
   "metadata": {},
   "outputs": [],
   "source": [
    "#creating list for credit score,age of customers,debt status and number of active credit cards\n",
    "credit_score = [234,456,321,654,789]\n",
    "age_of_customer = [23,45,32,56,43]\n",
    "debt_status = ['no-debt','no-debt','no-debt','in-debt','no-debt']\n",
    "num_of_existing_cards = [3,2,4,1,5]"
   ]
  },
  {
   "cell_type": "code",
   "execution_count": 7,
   "id": "bb0e64fb-fc1f-4aa6-9f23-bf103803dfa4",
   "metadata": {},
   "outputs": [
    {
     "name": "stdout",
     "output_type": "stream",
     "text": [
      "Customer ID: ['cid--001', 'cid--002', 'cid--003', 'cid--004', 'cid--005']\n",
      "Credit Score [234, 456, 321, 654, 789]\n",
      "Age of the customer: [23, 45, 32, 56, 43]\n",
      "Debt status ['no-debt', 'no-debt', 'no-debt', 'in-debt', 'no-debt']\n",
      "Number of existing Credit cards: [3, 2, 4, 1, 5]\n"
     ]
    }
   ],
   "source": [
    "#Let's print all the features stored as list\n",
    "print(\"Customer ID:\",cid)\n",
    "print(\"Credit Score\",credit_score)\n",
    "print(\"Age of the customer:\",age_of_customer)\n",
    "print(\"Debt status\",debt_status)\n",
    "print(\"Number of existing Credit cards:\",num_of_existing_cards)"
   ]
  },
  {
   "cell_type": "code",
   "execution_count": 8,
   "id": "b03df3bc-f124-43b2-941f-05cacd424204",
   "metadata": {},
   "outputs": [
    {
     "name": "stdout",
     "output_type": "stream",
     "text": [
      "2\n"
     ]
    }
   ],
   "source": [
    "#Let's try to fetch some data of customer whose id is 'cid-003'\n",
    "#To fetch the data first we,ve to find the index of the same\n",
    "pos = cid.index('cid--003')\n",
    "print(pos)"
   ]
  },
  {
   "cell_type": "markdown",
   "id": "9c0418e9-5227-4cbf-89cf-180ae76f234a",
   "metadata": {},
   "source": [
    "#Now that we know the index,let's call the value stored at the index for all the lists\n",
    "print(cid[pos])\n",
    "print(credit_score[pos])\n",
    "print(age_of_customer[pos])\n",
    "print(debt_status[pos])\n",
    "print(num_of_existing_cards[pos])\n",
    "#We can fetch the data in an organized manner"
   ]
  },
  {
   "cell_type": "code",
   "execution_count": 15,
   "id": "300354ce-41f7-493a-be0b-93683ecb1742",
   "metadata": {},
   "outputs": [],
   "source": [
    "#Updation--the debt status for cid--001 needs to be changed as the customer in-debt now\n",
    "#Again let's first find the index of cid--001\n",
    "pos = cid.index('cid--001')"
   ]
  },
  {
   "cell_type": "code",
   "execution_count": 16,
   "id": "d066a3e0-3b61-4d04-b284-c01a4f8288dc",
   "metadata": {},
   "outputs": [],
   "source": [
    "#Assigning the updated status\n",
    "debt_status[pos] = 'in-debt'"
   ]
  },
  {
   "cell_type": "code",
   "execution_count": 17,
   "id": "51f13b35-000c-4017-9866-d2f82f1a81b2",
   "metadata": {},
   "outputs": [
    {
     "data": {
      "text/plain": [
       "['in-debt', 'no-debt', 'no-debt', 'in-debt', 'no-debt']"
      ]
     },
     "execution_count": 17,
     "metadata": {},
     "output_type": "execute_result"
    }
   ],
   "source": [
    "debt_status  #data updation is done for cid--001"
   ]
  },
  {
   "cell_type": "markdown",
   "id": "8c3f8729-0199-41aa-9119-02a7309ac8da",
   "metadata": {},
   "source": [
    "                                             UPDATING CUSTOMER DATA BASED ON CONDITIONS\n",
    "                                            --Update the credit score for all the users\n",
    "                                            --Calculated based on 4 factors\n",
    "                                               1.Payment History(High Impact)\n",
    "                                               2.Credit Utilization ratio(High Impact)\n",
    "                                               3.Age of the credit(Medium Impact)\n",
    "                                               4.Total Accounts(Low Impact)\n",
    "    Create a list called per_on_time,which stores the percentage of on-time payments done by the user.If a user's per_on_time is greater than the 0.7,then we've to increase their credit score by 2%"
   ]
  },
  {
   "cell_type": "code",
   "execution_count": 18,
   "id": "d8fa5a9c-10bc-4c3e-950b-0cad800ab3c1",
   "metadata": {},
   "outputs": [],
   "source": [
    "#Assume that below random numbers is the on-time payment percentage\n",
    "per_on_time = [0.34,0.83,0.75,0.53,0.41]"
   ]
  },
  {
   "cell_type": "code",
   "execution_count": 19,
   "id": "2f662b02-2827-4ee2-8c94-63667574e800",
   "metadata": {},
   "outputs": [
    {
     "name": "stdout",
     "output_type": "stream",
     "text": [
      "Credit score is same for cid--001\n",
      "Credit score updated for cid-002\n",
      "Credit score updated for cid-003\n",
      "Credit score is same for cid--004\n",
      "Credit score is same for cid--005\n"
     ]
    }
   ],
   "source": [
    "#Here we use conditional statements for the satisfied condition\n",
    "if per_on_time[0]>0.7:\n",
    "    credit_score[0] = round(credit_score[0]*1.02)           #adding 2% will be equal to 1+0.02=1.02\n",
    "    print(\"Credit score updated for cid-001\")\n",
    "else:\n",
    "    print(\"Credit score is same for cid--001\")\n",
    "if per_on_time[1]>0.7:\n",
    "    credit_score[1] = round(credit_score[1]*1.02)           \n",
    "    print(\"Credit score updated for cid-002\")\n",
    "else:\n",
    "    print(\"Credit score is same for cid--002\")\n",
    "if per_on_time[2]>0.7:\n",
    "    credit_score[2] = round(credit_score[2]*1.02)           \n",
    "    print(\"Credit score updated for cid-003\")\n",
    "else:\n",
    "    print(\"Credit score is same for cid--003\")\n",
    "if per_on_time[3]>0.7:\n",
    "    credit_score[3] = round(credit_score[3]*1.02)           \n",
    "    print(\"Credit score updated for cid-004\")\n",
    "else:\n",
    "    print(\"Credit score is same for cid--004\")\n",
    "if per_on_time[4]>0.7:\n",
    "    credit_score[4] = round(credit_score[4]*1.02)           \n",
    "    print(\"Credit score updated for cid-005\")\n",
    "else:\n",
    "    print(\"Credit score is same for cid--005\")  \n"
   ]
  },
  {
   "cell_type": "code",
   "execution_count": 20,
   "id": "c3efa7f3-7235-41f8-b75c-0f9220dc44df",
   "metadata": {},
   "outputs": [
    {
     "data": {
      "text/plain": [
       "[234, 465, 327, 654, 789]"
      ]
     },
     "execution_count": 20,
     "metadata": {},
     "output_type": "execute_result"
    }
   ],
   "source": [
    "credit_score"
   ]
  },
  {
   "cell_type": "code",
   "execution_count": 22,
   "id": "58f70089-8236-402d-9d5b-179ea98276e5",
   "metadata": {},
   "outputs": [
    {
     "name": "stdout",
     "output_type": "stream",
     "text": [
      "Credit score updated for: cid--001\n",
      "Credit Score is same for: cid--002\n",
      "Credit Score is same for: cid--003\n",
      "Credit Score is same for: cid--004\n",
      "Credit Score is same for: cid--005\n"
     ]
    }
   ],
   "source": [
    "#Alternative code if we had more data without time-consuming using loops\n",
    "#we will use for-loop in this case(Used to check conditions with minimal amount of code)\n",
    "for i in range(5):\n",
    "    if per_on_time[i]<0.4:\n",
    "        credit_score[i] = round(credit_score[i]*.98)   #subtracting 2% will be equal to 1-0.02=0.98\n",
    "        print(\"Credit score updated for:\",cid[i])\n",
    "    else:\n",
    "        print(\"Credit Score is same for:\",cid[i])\n"
   ]
  },
  {
   "cell_type": "code",
   "execution_count": 32,
   "id": "b574a2f9-9289-4819-9bb3-4d11f8e0053b",
   "metadata": {},
   "outputs": [
    {
     "name": "stdout",
     "output_type": "stream",
     "text": [
      "Number of people having credit score greater than 500: 2\n"
     ]
    }
   ],
   "source": [
    "#Let's find out how many people have credit score greater than 700?\n",
    "#Initialize counter to increment the customer count\n",
    "\n",
    "count=0\n",
    "\n",
    "for i in range(0,len(cid)):\n",
    "    if credit_score[i]>500:\n",
    "        count+=1  #increment count counter by 1 when the score is greater than 700\n",
    "print(\"Number of people having credit score greater than 500:\",count)"
   ]
  },
  {
   "cell_type": "code",
   "execution_count": 33,
   "id": "e32e95aa-9b26-4ba2-a0df-11e9e1ea6a30",
   "metadata": {},
   "outputs": [
    {
     "name": "stdout",
     "output_type": "stream",
     "text": [
      "Number of people having more than 2 credit cards: 3\n"
     ]
    }
   ],
   "source": [
    "#Let's check how many people have more than 2 credit cards\n",
    "#Initialize counter to increment the customer count\n",
    "count=0\n",
    "\n",
    "for i in range(0,len(cid)):\n",
    "    if num_of_existing_cards[i]>2:\n",
    "        count+=1\n",
    "print(\"Number of people having more than 2 credit cards:\",count)"
   ]
  },
  {
   "cell_type": "code",
   "execution_count": 34,
   "id": "33426a7b-72cd-4d51-a982-7ecd73f15baf",
   "metadata": {},
   "outputs": [
    {
     "name": "stdout",
     "output_type": "stream",
     "text": [
      "Number of people with in-debt: 2\n",
      "Number of people with no-debt: 3\n"
     ]
    }
   ],
   "source": [
    "#Let's count how many people are in debt and how many are in no-debt\n",
    "#Initialize counters to increment in-debt and not in-debt customer counts\n",
    "\n",
    "indebt=0\n",
    "nodebt=0\n",
    "\n",
    "for i in range(0,len(cid)):\n",
    "    if debt_status[i]== 'in-debt':\n",
    "        indebt+=1\n",
    "    else:\n",
    "        nodebt+=1\n",
    "print(\"Number of people with in-debt:\",indebt)\n",
    "print(\"Number of people with no-debt:\",nodebt)"
   ]
  },
  {
   "cell_type": "code",
   "execution_count": 40,
   "id": "da60ab14-0228-42ef-85e5-407ecc31921e",
   "metadata": {},
   "outputs": [
    {
     "name": "stdout",
     "output_type": "stream",
     "text": [
      "-----------------------------------------------------------------\n",
      "Customer ID: cid--002\n",
      "Credit Score: 465\n",
      "Age of customers: 45\n",
      "Debt status: no-debt\n",
      "Number of existing credit cards: 2\n"
     ]
    }
   ],
   "source": [
    "#Let's print all the information of customer whose customer id =cid--002\n",
    "for i in range(0,len(cid)):\n",
    "    if cid[i]=='cid--002':\n",
    "        print('-----------------------------------------------------------------')\n",
    "        print(\"Customer ID:\",cid[i])\n",
    "        print(\"Credit Score:\",credit_score[i])\n",
    "        print(\"Age of customers:\",age_of_customer[i])\n",
    "        print(\"Debt status:\",debt_status[i])\n",
    "        print(\"Number of existing credit cards:\",num_of_existing_cards[i])"
   ]
  },
  {
   "cell_type": "markdown",
   "id": "c763c285-3578-4a68-82da-4e2025a74549",
   "metadata": {},
   "source": [
    "                                                 MODULAR WAY OF UPDATING A DATA"
   ]
  },
  {
   "cell_type": "code",
   "execution_count": 43,
   "id": "734dc18e-0280-47f6-838f-a960bf8a613b",
   "metadata": {},
   "outputs": [],
   "source": [
    "#We should try it using a function\n",
    "def customer_info(c_id):\n",
    "    for i in range(0,len(cid)):\n",
    "        if cid[i] == c_id:\n",
    "            print('--------------------------------------------------------------------')\n",
    "            print(\"Customer ID:\",cid[i])\n",
    "            print(\"Credit Score:\",credit_score[i])\n",
    "            print(\"Age of customers:\",age_of_customer[i])\n",
    "            print(\"Debt status:\",debt_status[i])\n",
    "            print(\"Number of existing credit cards:\",num_of_existing_cards[i])"
   ]
  },
  {
   "cell_type": "code",
   "execution_count": 44,
   "id": "02c375b9-444a-4074-9530-8f8e64c66de7",
   "metadata": {},
   "outputs": [
    {
     "name": "stdout",
     "output_type": "stream",
     "text": [
      "--------------------------------------------------------------------\n",
      "Customer ID: cid--001\n",
      "Credit Score: 229\n",
      "Age of customers: 23\n",
      "Debt status: in-debt\n",
      "Number of existing credit cards: 3\n"
     ]
    }
   ],
   "source": [
    "customer_info('cid--001')  #calling the above defined function"
   ]
  },
  {
   "cell_type": "code",
   "execution_count": 45,
   "id": "0fc43012-a427-4d7c-b361-908db29124ae",
   "metadata": {},
   "outputs": [
    {
     "name": "stdout",
     "output_type": "stream",
     "text": [
      "--------------------------------------------------------------------\n",
      "Customer ID: cid--003\n",
      "Credit Score: 327\n",
      "Age of customers: 32\n",
      "Debt status: no-debt\n",
      "Number of existing credit cards: 4\n"
     ]
    }
   ],
   "source": [
    "#Printing the customer whose id is cid-003\n",
    "customer_info('cid--003')"
   ]
  },
  {
   "cell_type": "markdown",
   "id": "51d4b496-4029-4c09-bb20-c3162380a8c1",
   "metadata": {},
   "source": [
    "                                        COMBINING ALL THE DATA INTO A SINGLE ELEMENT\n",
    "                                        #We need to club all the data into a single structure\n",
    "                                           (Let's try to combine these into dictionary)"
   ]
  },
  {
   "cell_type": "code",
   "execution_count": 49,
   "id": "5365cbae-b55a-4aed-888d-67038e165140",
   "metadata": {},
   "outputs": [],
   "source": [
    "#dict is created with key and value pairs\n",
    "df1 = {\n",
    "    'cust_id':cid,\n",
    "    'credit_score':credit_score,\n",
    "    'age':age_of_customer,\n",
    "    'debt_status':debt_status,\n",
    "    'curr_credit_cards':num_of_existing_cards\n",
    "}"
   ]
  },
  {
   "cell_type": "code",
   "execution_count": 50,
   "id": "3186e00d-65f1-4e50-94a2-16a6fd000c98",
   "metadata": {},
   "outputs": [
    {
     "data": {
      "text/plain": [
       "{'cust_id': ['cid--001', 'cid--002', 'cid--003', 'cid--004', 'cid--005'],\n",
       " 'credit_score': [229, 465, 327, 654, 789],\n",
       " 'age': [23, 45, 32, 56, 43],\n",
       " 'debt_status': ['in-debt', 'no-debt', 'no-debt', 'in-debt', 'no-debt'],\n",
       " 'curr_credit_cards': [3, 2, 4, 1, 5]}"
      ]
     },
     "execution_count": 50,
     "metadata": {},
     "output_type": "execute_result"
    }
   ],
   "source": [
    "df1   #printing the dictionary"
   ]
  },
  {
   "cell_type": "code",
   "execution_count": 52,
   "id": "4125b044-d6df-48ce-bf2e-09dc25a9ad47",
   "metadata": {},
   "outputs": [
    {
     "data": {
      "text/plain": [
       "['cid--001', 'cid--002', 'cid--003', 'cid--004', 'cid--005']"
      ]
     },
     "execution_count": 52,
     "metadata": {},
     "output_type": "execute_result"
    }
   ],
   "source": [
    "#Any value of dictionary can be accessed by calling the key value--dictionary['key']\n",
    "df1['cust_id']"
   ]
  },
  {
   "cell_type": "code",
   "execution_count": 53,
   "id": "5f789f5b-6d70-49fe-baa9-a3ec7f6e4ff0",
   "metadata": {},
   "outputs": [
    {
     "data": {
      "text/plain": [
       "'cid--003'"
      ]
     },
     "execution_count": 53,
     "metadata": {},
     "output_type": "execute_result"
    }
   ],
   "source": [
    "df1['cust_id'][2]"
   ]
  },
  {
   "cell_type": "markdown",
   "id": "49b398bd-0dab-43f6-ac6b-442132d73615",
   "metadata": {},
   "source": [
    "**Let's get all the information from the customer whose id is 'cid--004'**\n",
    "We can do this by iterating the index for a fixed list index.We can achieve that with \"items()\" method."
   ]
  },
  {
   "cell_type": "code",
   "execution_count": 55,
   "id": "4799c7a5-9aee-4df3-8e2b-aff3b21d3150",
   "metadata": {},
   "outputs": [
    {
     "name": "stdout",
     "output_type": "stream",
     "text": [
      "cust_id cid--004\n",
      "credit_score 654\n",
      "age 56\n",
      "debt_status in-debt\n",
      "curr_credit_cards 1\n"
     ]
    }
   ],
   "source": [
    "for key,value in df1.items():\n",
    "    print(key,value[3])"
   ]
  },
  {
   "cell_type": "markdown",
   "id": "7f4fe49b-95be-4879-84f7-44d9f50ea3e6",
   "metadata": {},
   "source": [
    "                                                GETTING DATA INTO A CONVENIENT STRUCTURE **PANDAS**"
   ]
  },
  {
   "cell_type": "code",
   "execution_count": 56,
   "id": "0622fe92-2797-4e02-bcdd-91d457f6f785",
   "metadata": {},
   "outputs": [
    {
     "name": "stdout",
     "output_type": "stream",
     "text": [
      "Requirement already satisfied: pandas in c:\\users\\srimo\\appdata\\local\\programs\\python\\python313\\lib\\site-packages (2.3.1)\n",
      "Requirement already satisfied: numpy>=1.26.0 in c:\\users\\srimo\\appdata\\local\\programs\\python\\python313\\lib\\site-packages (from pandas) (2.3.1)\n",
      "Requirement already satisfied: python-dateutil>=2.8.2 in c:\\users\\srimo\\appdata\\local\\programs\\python\\python313\\lib\\site-packages (from pandas) (2.9.0.post0)\n",
      "Requirement already satisfied: pytz>=2020.1 in c:\\users\\srimo\\appdata\\local\\programs\\python\\python313\\lib\\site-packages (from pandas) (2025.2)\n",
      "Requirement already satisfied: tzdata>=2022.7 in c:\\users\\srimo\\appdata\\local\\programs\\python\\python313\\lib\\site-packages (from pandas) (2025.2)\n",
      "Requirement already satisfied: six>=1.5 in c:\\users\\srimo\\appdata\\local\\programs\\python\\python313\\lib\\site-packages (from python-dateutil>=2.8.2->pandas) (1.17.0)\n"
     ]
    }
   ],
   "source": [
    "#Converting the dictionary into pandas data frame(Import)\n",
    "\n",
    "!pip install pandas"
   ]
  },
  {
   "cell_type": "code",
   "execution_count": 57,
   "id": "94a07f54-b1c4-4b2b-8f52-89ddab71a107",
   "metadata": {},
   "outputs": [],
   "source": [
    "import pandas as pd"
   ]
  },
  {
   "cell_type": "code",
   "execution_count": 58,
   "id": "e205ba38-baae-4646-a338-87d7a438759c",
   "metadata": {},
   "outputs": [],
   "source": [
    "#Let's create a data frame from the existing dictionary\n",
    "df=pd.DataFrame(df1)"
   ]
  },
  {
   "cell_type": "code",
   "execution_count": 59,
   "id": "f703b793-ecf1-4c94-ba6d-26e30acc73fe",
   "metadata": {},
   "outputs": [
    {
     "name": "stdout",
     "output_type": "stream",
     "text": [
      "    cust_id  credit_score  age debt_status  curr_credit_cards\n",
      "0  cid--001           229   23     in-debt                  3\n",
      "1  cid--002           465   45     no-debt                  2\n",
      "2  cid--003           327   32     no-debt                  4\n",
      "3  cid--004           654   56     in-debt                  1\n",
      "4  cid--005           789   43     no-debt                  5\n"
     ]
    }
   ],
   "source": [
    "#Printing the dataframe\n",
    "print(df)"
   ]
  },
  {
   "cell_type": "markdown",
   "id": "dd75f871-abaf-4b0d-a102-6ede64da14c2",
   "metadata": {},
   "source": [
    "                                                        ACCESSING AND ANALYZING THE DATA"
   ]
  },
  {
   "cell_type": "code",
   "execution_count": 60,
   "id": "3693b591-0181-44da-a44f-d95c7106ad61",
   "metadata": {},
   "outputs": [
    {
     "data": {
      "text/html": [
       "<div>\n",
       "<style scoped>\n",
       "    .dataframe tbody tr th:only-of-type {\n",
       "        vertical-align: middle;\n",
       "    }\n",
       "\n",
       "    .dataframe tbody tr th {\n",
       "        vertical-align: top;\n",
       "    }\n",
       "\n",
       "    .dataframe thead th {\n",
       "        text-align: right;\n",
       "    }\n",
       "</style>\n",
       "<table border=\"1\" class=\"dataframe\">\n",
       "  <thead>\n",
       "    <tr style=\"text-align: right;\">\n",
       "      <th></th>\n",
       "      <th>cust_id</th>\n",
       "      <th>credit_score</th>\n",
       "      <th>age</th>\n",
       "      <th>debt_status</th>\n",
       "      <th>curr_credit_cards</th>\n",
       "    </tr>\n",
       "  </thead>\n",
       "  <tbody>\n",
       "    <tr>\n",
       "      <th>0</th>\n",
       "      <td>cid--001</td>\n",
       "      <td>229</td>\n",
       "      <td>23</td>\n",
       "      <td>in-debt</td>\n",
       "      <td>3</td>\n",
       "    </tr>\n",
       "    <tr>\n",
       "      <th>1</th>\n",
       "      <td>cid--002</td>\n",
       "      <td>465</td>\n",
       "      <td>45</td>\n",
       "      <td>no-debt</td>\n",
       "      <td>2</td>\n",
       "    </tr>\n",
       "    <tr>\n",
       "      <th>2</th>\n",
       "      <td>cid--003</td>\n",
       "      <td>327</td>\n",
       "      <td>32</td>\n",
       "      <td>no-debt</td>\n",
       "      <td>4</td>\n",
       "    </tr>\n",
       "  </tbody>\n",
       "</table>\n",
       "</div>"
      ],
      "text/plain": [
       "    cust_id  credit_score  age debt_status  curr_credit_cards\n",
       "0  cid--001           229   23     in-debt                  3\n",
       "1  cid--002           465   45     no-debt                  2\n",
       "2  cid--003           327   32     no-debt                  4"
      ]
     },
     "execution_count": 60,
     "metadata": {},
     "output_type": "execute_result"
    }
   ],
   "source": [
    "#let's print the top 3 data entries\n",
    "df.head(3)"
   ]
  },
  {
   "cell_type": "code",
   "execution_count": 61,
   "id": "01eb4e2b-7f04-4061-8e76-073f7a0aa1f5",
   "metadata": {},
   "outputs": [
    {
     "data": {
      "text/html": [
       "<div>\n",
       "<style scoped>\n",
       "    .dataframe tbody tr th:only-of-type {\n",
       "        vertical-align: middle;\n",
       "    }\n",
       "\n",
       "    .dataframe tbody tr th {\n",
       "        vertical-align: top;\n",
       "    }\n",
       "\n",
       "    .dataframe thead th {\n",
       "        text-align: right;\n",
       "    }\n",
       "</style>\n",
       "<table border=\"1\" class=\"dataframe\">\n",
       "  <thead>\n",
       "    <tr style=\"text-align: right;\">\n",
       "      <th></th>\n",
       "      <th>cust_id</th>\n",
       "      <th>credit_score</th>\n",
       "      <th>age</th>\n",
       "      <th>debt_status</th>\n",
       "      <th>curr_credit_cards</th>\n",
       "    </tr>\n",
       "  </thead>\n",
       "  <tbody>\n",
       "    <tr>\n",
       "      <th>2</th>\n",
       "      <td>cid--003</td>\n",
       "      <td>327</td>\n",
       "      <td>32</td>\n",
       "      <td>no-debt</td>\n",
       "      <td>4</td>\n",
       "    </tr>\n",
       "    <tr>\n",
       "      <th>3</th>\n",
       "      <td>cid--004</td>\n",
       "      <td>654</td>\n",
       "      <td>56</td>\n",
       "      <td>in-debt</td>\n",
       "      <td>1</td>\n",
       "    </tr>\n",
       "    <tr>\n",
       "      <th>4</th>\n",
       "      <td>cid--005</td>\n",
       "      <td>789</td>\n",
       "      <td>43</td>\n",
       "      <td>no-debt</td>\n",
       "      <td>5</td>\n",
       "    </tr>\n",
       "  </tbody>\n",
       "</table>\n",
       "</div>"
      ],
      "text/plain": [
       "    cust_id  credit_score  age debt_status  curr_credit_cards\n",
       "2  cid--003           327   32     no-debt                  4\n",
       "3  cid--004           654   56     in-debt                  1\n",
       "4  cid--005           789   43     no-debt                  5"
      ]
     },
     "execution_count": 61,
     "metadata": {},
     "output_type": "execute_result"
    }
   ],
   "source": [
    "df.tail(3)"
   ]
  },
  {
   "cell_type": "code",
   "execution_count": 62,
   "id": "56f6ff21-e81f-4c3d-a794-b7ff25784f33",
   "metadata": {},
   "outputs": [
    {
     "data": {
      "text/html": [
       "<div>\n",
       "<style scoped>\n",
       "    .dataframe tbody tr th:only-of-type {\n",
       "        vertical-align: middle;\n",
       "    }\n",
       "\n",
       "    .dataframe tbody tr th {\n",
       "        vertical-align: top;\n",
       "    }\n",
       "\n",
       "    .dataframe thead th {\n",
       "        text-align: right;\n",
       "    }\n",
       "</style>\n",
       "<table border=\"1\" class=\"dataframe\">\n",
       "  <thead>\n",
       "    <tr style=\"text-align: right;\">\n",
       "      <th></th>\n",
       "      <th>credit_score</th>\n",
       "      <th>age</th>\n",
       "      <th>curr_credit_cards</th>\n",
       "    </tr>\n",
       "  </thead>\n",
       "  <tbody>\n",
       "    <tr>\n",
       "      <th>count</th>\n",
       "      <td>5.000000</td>\n",
       "      <td>5.00000</td>\n",
       "      <td>5.000000</td>\n",
       "    </tr>\n",
       "    <tr>\n",
       "      <th>mean</th>\n",
       "      <td>492.800000</td>\n",
       "      <td>39.80000</td>\n",
       "      <td>3.000000</td>\n",
       "    </tr>\n",
       "    <tr>\n",
       "      <th>std</th>\n",
       "      <td>229.985217</td>\n",
       "      <td>12.67675</td>\n",
       "      <td>1.581139</td>\n",
       "    </tr>\n",
       "    <tr>\n",
       "      <th>min</th>\n",
       "      <td>229.000000</td>\n",
       "      <td>23.00000</td>\n",
       "      <td>1.000000</td>\n",
       "    </tr>\n",
       "    <tr>\n",
       "      <th>25%</th>\n",
       "      <td>327.000000</td>\n",
       "      <td>32.00000</td>\n",
       "      <td>2.000000</td>\n",
       "    </tr>\n",
       "    <tr>\n",
       "      <th>50%</th>\n",
       "      <td>465.000000</td>\n",
       "      <td>43.00000</td>\n",
       "      <td>3.000000</td>\n",
       "    </tr>\n",
       "    <tr>\n",
       "      <th>75%</th>\n",
       "      <td>654.000000</td>\n",
       "      <td>45.00000</td>\n",
       "      <td>4.000000</td>\n",
       "    </tr>\n",
       "    <tr>\n",
       "      <th>max</th>\n",
       "      <td>789.000000</td>\n",
       "      <td>56.00000</td>\n",
       "      <td>5.000000</td>\n",
       "    </tr>\n",
       "  </tbody>\n",
       "</table>\n",
       "</div>"
      ],
      "text/plain": [
       "       credit_score       age  curr_credit_cards\n",
       "count      5.000000   5.00000           5.000000\n",
       "mean     492.800000  39.80000           3.000000\n",
       "std      229.985217  12.67675           1.581139\n",
       "min      229.000000  23.00000           1.000000\n",
       "25%      327.000000  32.00000           2.000000\n",
       "50%      465.000000  43.00000           3.000000\n",
       "75%      654.000000  45.00000           4.000000\n",
       "max      789.000000  56.00000           5.000000"
      ]
     },
     "execution_count": 62,
     "metadata": {},
     "output_type": "execute_result"
    }
   ],
   "source": [
    "df.describe()"
   ]
  },
  {
   "cell_type": "code",
   "execution_count": 63,
   "id": "5aace9a3-6ba9-4fb0-8cf3-639a6bc002e8",
   "metadata": {},
   "outputs": [
    {
     "data": {
      "text/plain": [
       "(5, 5)"
      ]
     },
     "execution_count": 63,
     "metadata": {},
     "output_type": "execute_result"
    }
   ],
   "source": [
    "df.shape"
   ]
  },
  {
   "cell_type": "code",
   "execution_count": 64,
   "id": "604a0d8d-e1e8-48d1-b0ec-410e8dd521a0",
   "metadata": {},
   "outputs": [
    {
     "name": "stdout",
     "output_type": "stream",
     "text": [
      "<class 'pandas.core.frame.DataFrame'>\n",
      "RangeIndex: 5 entries, 0 to 4\n",
      "Data columns (total 5 columns):\n",
      " #   Column             Non-Null Count  Dtype \n",
      "---  ------             --------------  ----- \n",
      " 0   cust_id            5 non-null      object\n",
      " 1   credit_score       5 non-null      int64 \n",
      " 2   age                5 non-null      int64 \n",
      " 3   debt_status        5 non-null      object\n",
      " 4   curr_credit_cards  5 non-null      int64 \n",
      "dtypes: int64(3), object(2)\n",
      "memory usage: 332.0+ bytes\n"
     ]
    }
   ],
   "source": [
    "df.info()"
   ]
  },
  {
   "cell_type": "code",
   "execution_count": null,
   "id": "cee0f1a3-ee1e-4984-8c37-8637ac45aedc",
   "metadata": {},
   "outputs": [],
   "source": []
  }
 ],
 "metadata": {
  "kernelspec": {
   "display_name": "Python 3 (ipykernel)",
   "language": "python",
   "name": "python3"
  },
  "language_info": {
   "codemirror_mode": {
    "name": "ipython",
    "version": 3
   },
   "file_extension": ".py",
   "mimetype": "text/x-python",
   "name": "python",
   "nbconvert_exporter": "python",
   "pygments_lexer": "ipython3",
   "version": "3.13.3"
  }
 },
 "nbformat": 4,
 "nbformat_minor": 5
}
